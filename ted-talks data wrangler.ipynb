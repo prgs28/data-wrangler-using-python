{
 "cells": [
  {
   "cell_type": "markdown",
   "metadata": {
    "collapsed": false
   },
   "source": [
    "# Exploratory Analysis over TED Talks Dataset"
   ]
  },
  {
   "cell_type": "markdown",
   "metadata": {
    "collapsed": false
   },
   "source": [
   ]
  },
  {
   "cell_type": "code",
   "execution_count": 0,
   "metadata": {
    "collapsed": false
   },
   "outputs": [
   ],
   "source": [
   ]
  },
  {
   "cell_type": "markdown",
   "metadata": {
    "collapsed": false
   },
   "source": [
   ]
  },
  {
   "cell_type": "markdown",
   "metadata": {
    "collapsed": false
   },
   "source": [
    "# Dataset Details\n",
    "\n",
    "In this assignment, you will work on TED Talks dataset. This dataset contains information about all audio-video recordings of TED Talks uploaded to the official TED.com website until September 21st, 2017. The TED dataset contains information about all talks including number of views, number of comments, descriptions, speakers, and titles. \n",
    "\n",
    "### TED Talks Dataset\n",
    "####  name: The official name of the TED Talk. Includes the title and the speaker.\n",
    "#### title: The title of the talk\n",
    "#### description: A short description of what the talk is about.\n",
    "#### main_speaker: The first named speaker of the talk.\n",
    "#### speaker_occupation: The occupation of the main speaker.\n",
    "#### num_speaker: The number of speakers in the talk.\n",
    "#### duration: The duration of the talk in seconds.\n",
    "#### event: The TED/TEDx event where the talk took place.\n",
    "#### published_date: The Unix timestamp for the publication of the talk on TED.com\n",
    "#### comments: The number of first level comments made on the talk.\n",
    "#### tags: The themes associated with the talk.\n",
    "#### languages: The number of languages in which the talk is available.\n",
    "#### url: The URL of the talk.\n",
    "#### views: The number of views on the talk."
   ]
  },
  {
   "cell_type": "markdown",
   "metadata": {
    "collapsed": false
   },
   "source": [
    "# Required Python Packages\n",
    "You will use the packages imported below in this assignment. \n",
    "Do NOT import any new packages without confirming with the TA. "
   ]
  },
  {
   "cell_type": "code",
   "execution_count": 2,
   "metadata": {
    "collapsed": false
   },
   "outputs": [
   ],
   "source": [
    "# special IPython command to prepare the notebook for matplotlib\n",
    "%matplotlib inline \n",
    "\n",
    "#Array processing\n",
    "import numpy as np\n",
    "#Data analysis, wrangling and common exploratory operations\n",
    "import pandas as pd\n",
    "from pandas import Series, DataFrame\n",
    "\n",
    "#For visualization. Matplotlib for basic viz and seaborn for more stylish figures\n",
    "import matplotlib.pyplot as plt\n",
    "import seaborn as sns\n",
    "\n",
    "#For some of the date operations\n",
    "import datetime"
   ]
  },
  {
   "cell_type": "markdown",
   "metadata": {
    "collapsed": false
   },
   "source": [
    "# Reading Dataset\n",
    "The Python code below reads the ted_talks dataset into a Pandas data frame with the name df_ted. \n",
    "For this code to work, the file 'ted_talks.csv' must be in the same folder as the notebook."
   ]
  },
  {
   "cell_type": "code",
   "execution_count": 3,
   "metadata": {
    "collapsed": false
   },
   "outputs": [
    {
     "data": {
      "text/html": [
       "<div>\n",
       "<style scoped>\n",
       "    .dataframe tbody tr th:only-of-type {\n",
       "        vertical-align: middle;\n",
       "    }\n",
       "\n",
       "    .dataframe tbody tr th {\n",
       "        vertical-align: top;\n",
       "    }\n",
       "\n",
       "    .dataframe thead th {\n",
       "        text-align: right;\n",
       "    }\n",
       "</style>\n",
       "<table border=\"1\" class=\"dataframe\">\n",
       "  <thead>\n",
       "    <tr style=\"text-align: right;\">\n",
       "      <th></th>\n",
       "      <th>comments</th>\n",
       "      <th>description</th>\n",
       "      <th>duration</th>\n",
       "      <th>event</th>\n",
       "      <th>languages</th>\n",
       "      <th>main_speaker</th>\n",
       "      <th>name</th>\n",
       "      <th>num_speaker</th>\n",
       "      <th>published_date</th>\n",
       "      <th>speaker_occupation</th>\n",
       "      <th>tags</th>\n",
       "      <th>title</th>\n",
       "      <th>url</th>\n",
       "      <th>views</th>\n",
       "    </tr>\n",
       "  </thead>\n",
       "  <tbody>\n",
       "    <tr>\n",
       "      <th>0</th>\n",
       "      <td>4553</td>\n",
       "      <td>Sir Ken Robinson makes an entertaining and pro...</td>\n",
       "      <td>1164</td>\n",
       "      <td>TED2006</td>\n",
       "      <td>60</td>\n",
       "      <td>Ken Robinson</td>\n",
       "      <td>Ken Robinson: Do schools kill creativity?</td>\n",
       "      <td>1</td>\n",
       "      <td>26-06-2006</td>\n",
       "      <td>Author/educator</td>\n",
       "      <td>['children', 'creativity', 'culture', 'dance',...</td>\n",
       "      <td>Do schools kill creativity?</td>\n",
       "      <td>https://www.ted.com/talks/ken_robinson_says_sc...</td>\n",
       "      <td>47227110</td>\n",
       "    </tr>\n",
       "    <tr>\n",
       "      <th>1</th>\n",
       "      <td>265</td>\n",
       "      <td>With the same humor and humanity he exuded in ...</td>\n",
       "      <td>977</td>\n",
       "      <td>TED2006</td>\n",
       "      <td>43</td>\n",
       "      <td>Al Gore</td>\n",
       "      <td>Al Gore: Averting the climate crisis</td>\n",
       "      <td>1</td>\n",
       "      <td>26-06-2006</td>\n",
       "      <td>Climate advocate</td>\n",
       "      <td>['alternative energy', 'cars', 'climate change...</td>\n",
       "      <td>Averting the climate crisis</td>\n",
       "      <td>https://www.ted.com/talks/al_gore_on_averting_...</td>\n",
       "      <td>3200520</td>\n",
       "    </tr>\n",
       "    <tr>\n",
       "      <th>2</th>\n",
       "      <td>124</td>\n",
       "      <td>New York Times columnist David Pogue takes aim...</td>\n",
       "      <td>1286</td>\n",
       "      <td>TED2006</td>\n",
       "      <td>26</td>\n",
       "      <td>David Pogue</td>\n",
       "      <td>David Pogue: Simplicity sells</td>\n",
       "      <td>1</td>\n",
       "      <td>26-06-2006</td>\n",
       "      <td>Technology columnist</td>\n",
       "      <td>['computers', 'entertainment', 'interface desi...</td>\n",
       "      <td>Simplicity sells</td>\n",
       "      <td>https://www.ted.com/talks/david_pogue_says_sim...</td>\n",
       "      <td>1636292</td>\n",
       "    </tr>\n",
       "    <tr>\n",
       "      <th>3</th>\n",
       "      <td>200</td>\n",
       "      <td>In an emotionally charged talk, MacArthur-winn...</td>\n",
       "      <td>1116</td>\n",
       "      <td>TED2006</td>\n",
       "      <td>35</td>\n",
       "      <td>Majora Carter</td>\n",
       "      <td>Majora Carter: Greening the ghetto</td>\n",
       "      <td>1</td>\n",
       "      <td>26-06-2006</td>\n",
       "      <td>Activist for environmental justice</td>\n",
       "      <td>['MacArthur grant', 'activism', 'business', 'c...</td>\n",
       "      <td>Greening the ghetto</td>\n",
       "      <td>https://www.ted.com/talks/majora_carter_s_tale...</td>\n",
       "      <td>1697550</td>\n",
       "    </tr>\n",
       "    <tr>\n",
       "      <th>4</th>\n",
       "      <td>593</td>\n",
       "      <td>You've never seen data presented like this. Wi...</td>\n",
       "      <td>1190</td>\n",
       "      <td>TED2006</td>\n",
       "      <td>48</td>\n",
       "      <td>Hans Rosling</td>\n",
       "      <td>Hans Rosling: The best stats you've ever seen</td>\n",
       "      <td>1</td>\n",
       "      <td>27-06-2006</td>\n",
       "      <td>Global health expert; data visionary</td>\n",
       "      <td>['Africa', 'Asia', 'Google', 'demo', 'economic...</td>\n",
       "      <td>The best stats you've ever seen</td>\n",
       "      <td>https://www.ted.com/talks/hans_rosling_shows_t...</td>\n",
       "      <td>12005869</td>\n",
       "    </tr>\n",
       "  </tbody>\n",
       "</table>\n",
       "</div>"
      ]
     },
     "execution_count": 3,
     "metadata": {
     },
     "output_type": "execute_result"
    }
   ],
   "source": [
    "#read the csv file into a Pandas data frame\n",
    "df_ted = pd.read_csv('ted_talks.csv', encoding='latin1')\n",
    "#convert the Unix timestamps into a readable date format\n",
    "df_ted['published_date'] = df_ted['published_date'].apply(lambda x: datetime.datetime.fromtimestamp( int(x)).strftime('%d-%m-%Y'))\n",
    "#return the first 5 rows of the dataset\n",
    "df_ted.head()"
   ]
  },
  {
   "cell_type": "markdown",
   "metadata": {
    "collapsed": false
   },
   "source": [
    "# Task 1: Statistical Exploratory Data Analysis\n",
    "Let us start with getting know the dataset. Your first task will be to get some basic information by using Pandas features."
   ]
  },
  {
   "cell_type": "code",
   "execution_count": 410,
   "metadata": {
    "collapsed": false
   },
   "outputs": [
    {
     "name": "stdout",
     "output_type": "stream",
     "text": [
      "<class 'pandas.core.frame.DataFrame'>\n",
      "RangeIndex: 2550 entries, 0 to 2549\n",
      "Data columns (total 15 columns):\n",
      "comments              2550 non-null int64\n",
      "description           2550 non-null object\n",
      "duration              2550 non-null int64\n",
      "event                 2550 non-null object\n",
      "languages             2550 non-null int64\n",
      "main_speaker          2550 non-null object\n",
      "name                  2550 non-null object\n",
      "num_speaker           2550 non-null int64\n",
      "published_date        2550 non-null object\n",
      "speaker_occupation    2544 non-null object\n",
      "tags                  2550 non-null object\n",
      "title                 2550 non-null object\n",
      "url                   2550 non-null object\n",
      "views                 2550 non-null int64\n",
      "year                  2550 non-null object\n",
      "dtypes: int64(5), object(10)\n",
      "memory usage: 298.9+ KB\n",
      "Task 1-a: Details of df_ted data frame are: \n",
      " None\n",
      "\n",
      "\n",
      "Task 1-b: Number of rows:2550 and number of columns:15\n",
      "\n",
      "\n",
      "Task 1-c: Descriptive details of duration is \n",
      " count    2550.000000\n",
      "mean      826.510196\n",
      "std       374.009138\n",
      "min       135.000000\n",
      "25%       577.000000\n",
      "50%       848.000000\n",
      "75%      1046.750000\n",
      "max      5256.000000\n",
      "Name: duration, dtype: float64\n",
      "\n",
      "\n",
      "Task 1-d: The number of unique events : 355\n",
      "Task 1-d: The number of unique languages : 66\n"
     ]
    }
   ],
   "source": [
    "#For each task below, look for a Pandas function to do the task.\n",
    "#Replace None in each task with your code.\n",
    "\n",
    "\n",
    "#Task 1-a: Print the details of the df_ted data frame (information such as number of rows,columns, name of columns, etc)\n",
    "print (\"Task 1-a: Details of df_ted data frame are: \\n\", df_ted.info() )\n",
    "\n",
    "\n",
    "#Task 1-b: Find the number of rows and columns in the df_ted data frame.\n",
    "num_rows = df_ted.count()['event']   \n",
    "num_cols = len(df_ted.columns)\n",
    "print (\"\\n\\nTask 1-b: Number of rows:%s and number of columns:%s\" % (num_rows, num_cols)) \n",
    "\n",
    "\n",
    "#Task 1-c: Print the descriptive details (min, max, quartiles etc) for 'duration' column of  the ted_talk\n",
    "#duration: The duration of the talk in seconds.\n",
    "print (\"\\n\\nTask 1-c: Descriptive details of duration is \\n\",df_ted.describe()['duration'] )\n",
    "\n",
    "\n",
    "#Task 1-d: Print the number of unique values for 'event' and 'languages' columns\n",
    "num_uniq_event = df_ted.groupby(['event'])['event'].sum().count()\n",
    "num_uniq_languages = df_ted.groupby(['languages'])['languages'].sum().count()\n",
    "print (\"\\n\\nTask 1-d: The number of unique events :\", num_uniq_event)\n",
    "print (\"Task 1-d: The number of unique languages :\", num_uniq_languages)\n"
   ]
  },
  {
   "cell_type": "markdown",
   "metadata": {
    "collapsed": false
   },
   "source": [
    "# Task 2: Aggregation & Filtering & Rank\n",
    "In this task, we will perform some very high level aggregation and filtering operations. Then, we will apply ranking on the results for some tasks. Pandas has a convenient and powerful syntax for aggregation, filtering, and ranking. DO NOT write a for loop. Pandas has built-in functions for all tasks. "
   ]
  },
  {
   "cell_type": "code",
   "execution_count": 423,
   "metadata": {
    "collapsed": false,
    "scrolled": true
   },
   "outputs": [
    {
     "name": "stdout",
     "output_type": "stream",
     "text": [
      "Task 2-a: The total number of comments on talks in TED2016 is 59435 and in TED2017 is \n",
      " 54613\n",
      "\n",
      "\n",
      "Task 2-b: The total number of talks in 2015 is 220, in 2016 is 243, and in 2017 is 197\n",
      "\n",
      "\n",
      "Task 2-c: The total number of talks that meet the given conditions in 2012 is 116 and in 2014 is 80\n",
      "\n",
      "\n",
      "Task 2-d: \n",
      "The top 5 least viewed talk in 2016: \n",
      "                                                  title   views\n",
      "2263  How Argentina's blind soccer team became champ...  443773\n",
      "2303            Ballroom dance that breaks gender roles  571009\n",
      "2266                 The deadly legacy of cluster bombs  645572\n",
      "2319                                     \"Space Oddity\"  738590\n",
      "2136   How I'm discovering the secrets of ancient texts  761052 \n",
      "\n",
      "The top 5 least viewed talk in 2017: \n",
      "                                                  title   views\n",
      "2507                      A dance to honor Mother Earth  182975\n",
      "2533      Would you live in a floating city in the sky?  248411\n",
      "2547  What intelligent machines can learn from a sch...  375647\n",
      "2485  Why journalists have an obligation to challeng...  383080\n",
      "2549  How a video game might help us build better ci...  391721\n",
      "\n",
      "\n",
      "Task 2-e: \n",
      "The top 10 most commented talk in 2010: \n",
      "                                                  name  comments\n",
      "644     Sam Harris: Science can answer moral questions      3356\n",
      "661      Michael Specter: The danger of science denial      2272\n",
      "677      Simon Sinek: How great leaders inspire action      1930\n",
      "837         BrenÃÂ© Brown: The power of vulnerability      1927\n",
      "667        James Randi: Homeopathy, quackery and fraud      1545\n",
      "694  Sharmeen Obaid-Chinoy: Inside a school for sui...      1502\n",
      "641     Jane McGonigal: Gaming can make a better world      1309\n",
      "692    Ken Robinson: Bring on the learning revolution!      1234\n",
      "730               Elif Shafak: The politics of fiction      1217\n",
      "614         Jamie Oliver: Teach every child about food      1137\n",
      "\n",
      "\n",
      "Task 2-f: \n",
      "The top 10 events with the most number of talks: \n",
      "event\n",
      "AORN Congress                            1\n",
      "Arbejdsglaede Live                       1\n",
      "BBC TV                                   1\n",
      "Bowery Poetry Club                       1\n",
      "Business Innovation Factory              3\n",
      "Carnegie Mellon University               1\n",
      "Chautauqua Institution                   3\n",
      "DICE Summit 2010                         1\n",
      "DLD 2007                                 1\n",
      "EG 2007                                 13\n",
      "EG 2008                                  8\n",
      "Elizabeth G. Anderson School             1\n",
      "Eric Whitacre's Virtual Choir            1\n",
      "Fort Worth City Council                  1\n",
      "Full Spectrum Auditions                  3\n",
      "Gel Conference                           2\n",
      "Global Witness HQ                        1\n",
      "Handheld Learning                        1\n",
      "Harvard University                       1\n",
      "INK Conference                           6\n",
      "Justice with Michael Sandel              1\n",
      "LIFT 2007                                1\n",
      "Michael Howard Studios                   1\n",
      "Mission Blue II                          8\n",
      "Mission Blue Voyage                     18\n",
      "New York State Senate                    1\n",
      "NextGen:Charity                          1\n",
      "Princeton University                     1\n",
      "RSA Animate                              3\n",
      "Royal Institution                        1\n",
      "Serious Play 2008                        8\n",
      "Skoll World Forum 2007                   1\n",
      "SoulPancake                              1\n",
      "Stanford University                      2\n",
      "TED Dialogues                            2\n",
      "TED Fellows 2015                         1\n",
      "TED Fellows Retreat 2013                 5\n",
      "TED Fellows Retreat 2015                 7\n",
      "TED Prize Wish                           1\n",
      "TED Residency                            5\n",
      "TED Senior Fellows at TEDGlobal 2010     1\n",
      "TED Studio                               4\n",
      "TED Talks Education                      8\n",
      "TED Talks Live                          20\n",
      "TED in the Field                         4\n",
      "TED-Ed                                   9\n",
      "TED-Ed Weekend                           1\n",
      "TED1984                                  1\n",
      "TED1990                                  1\n",
      "TED1994                                  1\n",
      "TED1998                                  6\n",
      "TED2001                                  3\n",
      "TED2002                                 28\n",
      "TED2003                                 34\n",
      "TED2004                                 31\n",
      "TED2005                                 37\n",
      "TED2006                                 45\n",
      "TED2007                                 68\n",
      "TED2008                                 57\n",
      "TED2009                                 83\n",
      "TED2010                                 68\n",
      "TED2011                                 70\n",
      "TED2012                                 65\n",
      "TED2013                                 77\n",
      "TED2014                                 84\n",
      "TED2015                                 75\n",
      "TED2016                                 77\n",
      "TED2017                                 67\n",
      "TED@BCG Berlin                           2\n",
      "TED@BCG London                           4\n",
      "TED@BCG Paris                           11\n",
      "TED@BCG San Francisco                    7\n",
      "TED@BCG Singapore                        3\n",
      "TED@Bangalore                            1\n",
      "TED@Cannes                               5\n",
      "TED@IBM                                 10\n",
      "TED@Intel                                3\n",
      "TED@Johannesburg                         1\n",
      "TED@London                               1\n",
      "TED@MotorCity                            2\n",
      "TED@NYC                                 10\n",
      "TED@Nairobi                              1\n",
      "TED@New York                             4\n",
      "TED@SXSWi                                1\n",
      "TED@State                                5\n",
      "TED@State Street Boston                  6\n",
      "TED@State Street London                  1\n",
      "TED@StateStreet Boston                   1\n",
      "TED@UPS                                  5\n",
      "TED@Unilever                             3\n",
      "TEDActive 2011                           3\n",
      "TEDActive 2014                           2\n",
      "TEDActive 2015                           1\n",
      "TEDCity2.0                              11\n",
      "TEDGlobal 2005                          26\n",
      "TEDGlobal 2007                          27\n",
      "TEDGlobal 2009                          65\n",
      "TEDGlobal 2010                          55\n",
      "TEDGlobal 2011                          68\n",
      "TEDGlobal 2012                          70\n",
      "TEDGlobal 2013                          66\n",
      "TEDGlobal 2014                          51\n",
      "TEDGlobal 2017                           3\n",
      "TEDGlobal>Geneva                        11\n",
      "TEDGlobal>London                        13\n",
      "TEDGlobalLondon                          8\n",
      "TEDIndia 2009                           35\n",
      "TEDLagos Ideas Search                    2\n",
      "TEDMED 2009                             11\n",
      "TEDMED 2010                              4\n",
      "TEDMED 2011                              7\n",
      "TEDMED 2012                             10\n",
      "TEDMED 2013                              8\n",
      "TEDMED 2014                             10\n",
      "TEDMED 2015                              8\n",
      "TEDMED 2016                             10\n",
      "TEDNYC                                  19\n",
      "TEDNairobi Ideas Search                  1\n",
      "TEDPrize@UN                              2\n",
      "TEDSalon 2006                            4\n",
      "TEDSalon 2007 Hot Science                2\n",
      "TEDSalon 2009 Compassion                 3\n",
      "TEDSalon Berlin 2014                    10\n",
      "TEDSalon London 2009                     1\n",
      "TEDSalon London 2010                     7\n",
      "TEDSalon London Fall 2011                2\n",
      "TEDSalon London Fall 2012                6\n",
      "TEDSalon London Spring 2011              6\n",
      "TEDSalon London Spring 2012              5\n",
      "TEDSalon NY2011                          6\n",
      "TEDSalon NY2012                          4\n",
      "TEDSalon NY2013                         11\n",
      "TEDSalon NY2014                         11\n",
      "TEDSalon NY2015                          1\n",
      "TEDSummit                               34\n",
      "TEDWomen 2010                           34\n",
      "TEDWomen 2013                            9\n",
      "TEDWomen 2015                           28\n",
      "TEDWomen 2016                           25\n",
      "TEDYouth 2011                            3\n",
      "TEDYouth 2012                            1\n",
      "TEDYouth 2013                            3\n",
      "TEDYouth 2014                            7\n",
      "TEDYouth 2015                            5\n",
      "TEDxABQ                                  1\n",
      "TEDxAmazonia                             1\n",
      "TEDxAmericanRiviera                      1\n",
      "TEDxAmoskeagMillyard                     1\n",
      "TEDxAmsterdam                            4\n",
      "TEDxArendal                              1\n",
      "TEDxAsheville                            1\n",
      "TEDxAthens                               2\n",
      "TEDxAtlanta                              1\n",
      "TEDxAustin                               4\n",
      "TEDxBG                                   1\n",
      "TEDxBeaconStreet                        22\n",
      "TEDxBeirut                               1\n",
      "TEDxBend                                 2\n",
      "TEDxBerkeley                             2\n",
      "TEDxBerlin                               3\n",
      "TEDxBinghamtonUniversity                 1\n",
      "TEDxBloomington                          2\n",
      "TEDxBoston                               3\n",
      "TEDxBoston 2009                          1\n",
      "TEDxBoston 2010                          1\n",
      "TEDxBoston 2011                          6\n",
      "TEDxBoston 2012                          6\n",
      "TEDxBoulder                              3\n",
      "TEDxBoulder 2011                         2\n",
      "TEDxBratislava                           2\n",
      "TEDxBrighton                             1\n",
      "TEDxBrussels                             8\n",
      "TEDxCERN                                 7\n",
      "TEDxCHUV                                 1\n",
      "TEDxCMU                                  2\n",
      "TEDxCaFoscariU                           1\n",
      "TEDxCaltech                              8\n",
      "TEDxCambridge                            8\n",
      "TEDxCanberra                             3\n",
      "TEDxCannes                               1\n",
      "TEDxChange                               4\n",
      "TEDxChapmanU                             1\n",
      "TEDxClaremontColleges                    1\n",
      "TEDxColbyCollege                         1\n",
      "TEDxColoradoSprings                      1\n",
      "TEDxColumbus                             2\n",
      "TEDxColumbusWomen                        1\n",
      "TEDxConcorde                             1\n",
      "TEDxConcordiaUPortland                   1\n",
      "TEDxCreativeCoast                        1\n",
      "TEDxCrenshaw                             1\n",
      "TEDxDU 2010                              2\n",
      "TEDxDU 2011                              1\n",
      "TEDxDanubia                              1\n",
      "TEDxDeExtinction                         2\n",
      "TEDxDelft                                2\n",
      "TEDxDesMoines                            1\n",
      "TEDxDirigo                               1\n",
      "TEDxDubai                                1\n",
      "TEDxDublin                               3\n",
      "TEDxEQChCh                               1\n",
      "TEDxEast                                 5\n",
      "TEDxEastEnd                              1\n",
      "TEDxEdmonton                             1\n",
      "TEDxEuston                               1\n",
      "TEDxExeter                               9\n",
      "TEDxFiDiWomen                            1\n",
      "TEDxFrankfurt                            1\n",
      "TEDxFulbrightDublin                      1\n",
      "TEDxGatewayWomen                         1\n",
      "TEDxGeorgetown                           1\n",
      "TEDxGhent                                2\n",
      "TEDxGlasgow                              1\n",
      "TEDxGoldenGatePark 2012                  1\n",
      "TEDxGoodenoughCollege                    1\n",
      "TEDxGrandRapids                          1\n",
      "TEDxGreatPacificGarbagePatch             3\n",
      "TEDxGroningen                            1\n",
      "TEDxGÃÂ¦teborg 2010                     1\n",
      "TEDxHamburg                              1\n",
      "TEDxHampshireCollege                     1\n",
      "TEDxHelvetia                             1\n",
      "TEDxHogeschoolUtrecht                    1\n",
      "TEDxHousesOfParliament                   6\n",
      "TEDxHouston                              2\n",
      "TEDxImperialCollege                      1\n",
      "TEDxIndianaUniversity                    1\n",
      "TEDxIndianapolis                         1\n",
      "TEDxIslay                                1\n",
      "TEDxJaffa 2012                           1\n",
      "TEDxJaffa 2013                           1\n",
      "TEDxKC                                   4\n",
      "TEDxKids@Ambleside                       1\n",
      "TEDxKids@Brussels                        1\n",
      "TEDxKrakow                               2\n",
      "TEDxKyoto                                2\n",
      "TEDxLeuvenSalon                          1\n",
      "TEDxLinnaeusUniversity                   1\n",
      "TEDxLondonBusinessSchool                 1\n",
      "TEDxMIA                                  1\n",
      "TEDxMaastricht                           4\n",
      "TEDxManchester                           2\n",
      "TEDxManhattan                            2\n",
      "TEDxManhattanBeach                       3\n",
      "TEDxMarin                                3\n",
      "TEDxMaui                                 2\n",
      "TEDxMet                                  2\n",
      "TEDxMiamiUniversity                      1\n",
      "TEDxMidAtlantic                         17\n",
      "TEDxMidAtlantic 2013                     2\n",
      "TEDxMidwest                              3\n",
      "TEDxMileHigh                             4\n",
      "TEDxMonroeCorrectionalComplex            1\n",
      "TEDxMonterey                             1\n",
      "TEDxMontreal                             1\n",
      "TEDxMtHood                               1\n",
      "TEDxMuncyStatePrison                     1\n",
      "TEDxNASA                                 2\n",
      "TEDxNASA@SiliconValley                   1\n",
      "TEDxNYED                                 2\n",
      "TEDxNatick                               1\n",
      "TEDxNewYork                              6\n",
      "TEDxNewy                                 1\n",
      "TEDxNextGenerationAsheville              1\n",
      "TEDxNijmegen                             1\n",
      "TEDxNorrkoping                           1\n",
      "TEDxNorthwesternU                        1\n",
      "TEDxO'Porto                              1\n",
      "TEDxObserver                             2\n",
      "TEDxOilSpill                             3\n",
      "TEDxOmaha                                1\n",
      "TEDxOrangeCoast                          1\n",
      "TEDxOrcasIsland                          1\n",
      "TEDxOslo                                 2\n",
      "TEDxPSU                                  7\n",
      "TEDxParis 2010                           2\n",
      "TEDxParis 2012                           1\n",
      "TEDxPeachtree                            3\n",
      "TEDxPenn                                 1\n",
      "TEDxPennQuarter                          1\n",
      "TEDxPennsylvaniaAvenue                   1\n",
      "TEDxPerth                                2\n",
      "TEDxPhoenix                              4\n",
      "TEDxPittsburgh                           1\n",
      "TEDxPlaceDesNations                      2\n",
      "TEDxPortland                             1\n",
      "TEDxPortofSpain                          2\n",
      "TEDxProvidence                           1\n",
      "TEDxPuget Sound                          1\n",
      "TEDxRC2                                  3\n",
      "TEDxRainier                              5\n",
      "TEDxRiodelaPlata                         8\n",
      "TEDxRotterdam 2010                       2\n",
      "TEDxSBU                                  1\n",
      "TEDxSF                                   1\n",
      "TEDxSFU                                  1\n",
      "TEDxSMU                                  3\n",
      "TEDxSaltLakeCity                         1\n",
      "TEDxSanDiego                             2\n",
      "TEDxSanJoseCA                            1\n",
      "TEDxSanMigueldeAllende                   2\n",
      "TEDxSanQuentin                           1\n",
      "TEDxSantaCruz                            1\n",
      "TEDxSeattleU                             1\n",
      "TEDxSeoul                                1\n",
      "TEDxSiliconValley                        1\n",
      "TEDxSkoll                                2\n",
      "TEDxSonomaCounty                         1\n",
      "TEDxSouthBank                            1\n",
      "TEDxStanford                             9\n",
      "TEDxSummit                              12\n",
      "TEDxSussexUniversity                     1\n",
      "TEDxSydney                              13\n",
      "TEDxTC                                   3\n",
      "TEDxTeen                                 2\n",
      "TEDxTelAviv 2010                         2\n",
      "TEDxThessaloniki                         3\n",
      "TEDxTokyo                                2\n",
      "TEDxToronto                              1\n",
      "TEDxToronto 2010                         4\n",
      "TEDxToronto 2011                         2\n",
      "TEDxToulouse                             1\n",
      "TEDxUCL                                  1\n",
      "TEDxUF                                   1\n",
      "TEDxUIUC                                 1\n",
      "TEDxUM                                   1\n",
      "TEDxUMKC                                 1\n",
      "TEDxUSC                                  9\n",
      "TEDxUW                                   1\n",
      "TEDxUdeM                                 1\n",
      "TEDxUniversityofNevada                   1\n",
      "TEDxUofM                                 1\n",
      "TEDxVancouver                            4\n",
      "TEDxVictoria                             1\n",
      "TEDxVienna                               3\n",
      "TEDxVirginiaTech                         1\n",
      "TEDxWarwick                              4\n",
      "TEDxWaterloo                             1\n",
      "TEDxWinnipeg                             1\n",
      "TEDxWitsUniversity                       1\n",
      "TEDxWomen 2011                           7\n",
      "TEDxWomen 2012                           6\n",
      "TEDxYYC                                  3\n",
      "TEDxYouth@Manchester                     2\n",
      "TEDxYouth@Sydney                         2\n",
      "TEDxZurich                               1\n",
      "TEDxZurich 2011                          1\n",
      "TEDxZurich 2012                          2\n",
      "TEDxZurich 2013                          1\n",
      "Taste3 2008                              6\n",
      "The Do Lectures                          1\n",
      "Toronto Youth Corps                      1\n",
      "University of California                 2\n",
      "Web 2.0 Expo 2008                        1\n",
      "World Science Festival                   1\n",
      "Name: event, dtype: int64\n"
     ]
    }
   ],
   "source": [
    "#Task 2-a: Find out the total number of comments for all talks in TED2016 and TED2017 events.\n",
    "num_comments_ted2016 = df_ted['duration'][df_ted['event']==\"TED2016\"].sum() \n",
    "num_comments_ted2017 = df_ted['duration'][df_ted['event']==\"TED2017\"].sum()\n",
    "print (\"Task 2-a: The total number of comments on talks in TED2016 is %s and in TED2017 is \\n %s\" \n",
    "       % (num_comments_ted2016, num_comments_ted2017))\n",
    "\n",
    "\n",
    "#Task 2-b: Find out the total number of talks in 2015, 2016, and 2017.\n",
    "#Let us create a new column for 'year' by using 'published_date' column\n",
    "df_ted['year'] = df_ted['published_date'].apply(lambda x: x.split('-')[2])\n",
    "num_talks_2015 = (df_ted['year']==\"2015\").sum()\n",
    "num_talks_2016 = (df_ted['year']==\"2016\").sum()\n",
    "num_talks_2017 = (df_ted['year']==\"2017\").sum()\n",
    "print (\"\\n\\nTask 2-b: The total number of talks in 2015 is %s, in 2016 is %s, and in 2017 is %s\" \n",
    "       % (num_talks_2015, num_talks_2016, num_talks_2017))\n",
    "\n",
    "\n",
    "#Task 2-c: Let us now use multiple filtering criteria\n",
    "# Find out the total number of talks in 2012 and 2014 with at least 15 mins duration and 500 views.\n",
    "num_talks_2012 = (df_ted['event'][df_ted['year']=='2012'][df_ted['duration']>=900][df_ted['views']>=500]).value_counts().sum()\n",
    "num_talks_2014 = (df_ted['event'][df_ted['year']=='2014'][df_ted['duration']>=900][df_ted['views']>=500]).value_counts().sum()\n",
    "print (\"\\n\\nTask 2-c: The total number of talks that meet the given conditions in 2012 is %s and in 2014 is %s\" \n",
    "       % (num_talks_2012, num_talks_2014))\n",
    "\n",
    "\n",
    "#Task 2-d: Find out 5 least viewed talks in 2016 and 2017 and print their titles and number of views.\n",
    "top5_least_viewed_2016 = df_ted[df_ted['year']==\"2016\"].sort_values(by=['views'])[:5]\n",
    "top5_least_viewed_2017 = df_ted[['title','views']][df_ted['year']==\"2017\"].sort_values(by=['views'])[:5]\n",
    "print (\"\\n\\nTask 2-d: \\nThe top 5 least viewed talk in 2016: \\n%s \\n\\nThe top 5 least viewed talk in 2017: \\n%s\" \n",
    "                     % (top5_least_viewed_2016,top5_least_viewed_2017))\n",
    "\n",
    "\n",
    "#Task 2-e: Find out 10 most commented talks in 2010 and print their titles and number of comments.\n",
    "top10_most_commented_2010 = df_ted[['name','comments']][df_ted['year']==\"2010\"].sort_values(by=['comments'], ascending=False)[:10]\n",
    "print (\"\\n\\nTask 2-e: \\nThe top 10 most commented talk in 2010: \\n%s\" \n",
    "                     % (top10_most_commented_2010))\n",
    "\n",
    "\n",
    "#Task 2-f: Find out Top-10 events with the most number of talks\n",
    "top10_events_talks = df_ted.groupby(['event'])['event'].count()\n",
    "print (\"\\n\\nTask 2-f: \\nThe top 10 events with the most number of talks: \\n%s\" \n",
    "                     % (top10_events_talks))\n"
   ]
  },
  {
   "cell_type": "markdown",
   "metadata": {
    "collapsed": false
   },
   "source": [
    "# Task 3: Visualization\n",
    "In this task, you will perform a number of visualization tasks to get some intuition about the data. Visualization is a key component of exploration. You can choose to use either Matplotlib or Seaborn for plotting. The default figures generated from Matplotlib might look a bit ugly. So you might want to try Seaborn to get better figures. Seaborn has a variety of styles. Feel free to experiment with them and choose the one you like. We have earmarked 10 points for the aesthetics of your visualizations."
   ]
  },
  {
   "cell_type": "code",
   "execution_count": 562,
   "metadata": {
    "collapsed": false
   },
   "outputs": [
    {
     "data": {
      "text/plain": [
       "<matplotlib.axes._subplots.AxesSubplot at 0x19726234b38>"
      ]
     },
     "execution_count": 562,
     "metadata": {
     },
     "output_type": "execute_result"
    },
    {
     "data": {
      "image/png": "[encoded data removed]"
     },
     "output_type": "display_data"
    }
   ],
   "source": [
    "\n",
    "#Task 3-a: Draw a histogram for total number of TED events hosted per year.\n",
    "#########################begin code for Task 3-a\n",
    "df1=df_ted.groupby(['year', 'event']).size().reset_index(name='counts')\n",
    "df2=df1.groupby(['year'])['event'].count()\n",
    "df2.plot(kind='hist')\n",
    "#########################end code for Task 3-a"
   ]
  },
  {
   "cell_type": "code",
   "execution_count": 563,
   "metadata": {
    "collapsed": false
   },
   "outputs": [
    {
     "data": {
      "text/plain": [
       "<matplotlib.axes._subplots.AxesSubplot at 0x19726299080>"
      ]
     },
     "execution_count": 563,
     "metadata": {
     },
     "output_type": "execute_result"
    },
    {
     "data": {
      "image/png": "[encoded data removed]"
     },
     "output_type": "display_data"
    }
   ],
   "source": [
    "#Task 3-b: Draw a histogram for total number of talks given per year.\n",
    "#########################begin code for Task 3-b\n",
    "df1=df_ted.groupby(['year', 'title']).size().reset_index(name='counts')\n",
    "df2=df1.groupby(['year']).sum()\n",
    "df2.plot(kind='hist')\n",
    "#########################end code for Task 3-b"
   ]
  },
  {
   "cell_type": "code",
   "execution_count": 564,
   "metadata": {
    "collapsed": false
   },
   "outputs": [
    {
     "data": {
      "text/plain": [
       "<matplotlib.axes._subplots.AxesSubplot at 0x197261a5048>"
      ]
     },
     "execution_count": 564,
     "metadata": {
     },
     "output_type": "execute_result"
    },
    {
     "data": {
      "image/png": "[encoded data removed]"
     },
     "output_type": "display_data"
    }
   ],
   "source": [
    "#Task 3-c: Draw a histogram for total number of views per year.\n",
    "#########################begin code for Task 3-c\n",
    "df1=df_ted.groupby(['year'])['views'].sum()\n",
    "df1.plot(kind='hist')\n",
    "#########################end code for Task 3-c"
   ]
  },
  {
   "cell_type": "code",
   "execution_count": 1,
   "metadata": {
    "collapsed": false
   },
   "outputs": [
    {
     "ename": "NameError",
     "evalue": "name 'df_ted' is not defined",
     "output_type": "error",
     "traceback": [
      "\u001b[1;31m---------------------------------------------------------------------------\u001b[0m",
      "\u001b[1;31mNameError\u001b[0m                                 Traceback (most recent call last)",
      "\u001b[1;32m<ipython-input-1-052374fd035e>\u001b[0m in \u001b[0;36m<module>\u001b[1;34m()\u001b[0m\n\u001b[0;32m      3\u001b[0m \u001b[1;31m# Remember to make the bar chart into a vertical bar chart\u001b[0m\u001b[1;33m\u001b[0m\u001b[1;33m\u001b[0m\u001b[0m\n\u001b[0;32m      4\u001b[0m \u001b[1;31m#########################begin code for Task 3-d\u001b[0m\u001b[1;33m\u001b[0m\u001b[1;33m\u001b[0m\u001b[0m\n\u001b[1;32m----> 5\u001b[1;33m \u001b[0mdf1\u001b[0m\u001b[1;33m=\u001b[0m\u001b[0mdf_ted\u001b[0m\u001b[1;33m[\u001b[0m\u001b[1;33m[\u001b[0m\u001b[1;34m'main_speaker'\u001b[0m\u001b[1;33m,\u001b[0m\u001b[1;34m'comments'\u001b[0m\u001b[1;33m]\u001b[0m\u001b[1;33m]\u001b[0m\u001b[1;33m.\u001b[0m\u001b[0msort_values\u001b[0m\u001b[1;33m(\u001b[0m\u001b[0mby\u001b[0m\u001b[1;33m=\u001b[0m\u001b[1;33m[\u001b[0m\u001b[1;34m'comments'\u001b[0m\u001b[1;33m]\u001b[0m\u001b[1;33m,\u001b[0m \u001b[0mascending\u001b[0m\u001b[1;33m=\u001b[0m\u001b[1;32mFalse\u001b[0m\u001b[1;33m)\u001b[0m\u001b[1;33m[\u001b[0m\u001b[1;33m:\u001b[0m\u001b[1;36m10\u001b[0m\u001b[1;33m]\u001b[0m\u001b[1;33m\u001b[0m\u001b[0m\n\u001b[0m\u001b[0;32m      6\u001b[0m \u001b[1;31m#df1.plot(kind='bar')\u001b[0m\u001b[1;33m\u001b[0m\u001b[1;33m\u001b[0m\u001b[0m\n\u001b[0;32m      7\u001b[0m \u001b[1;31m#########################end code for Task 3-d\u001b[0m\u001b[1;33m\u001b[0m\u001b[1;33m\u001b[0m\u001b[0m\n",
      "\u001b[1;31mNameError\u001b[0m: name 'df_ted' is not defined"
     ]
    }
   ],
   "source": [
    "\n",
    "#Task 3-d: Draw a \"vertical\" bar chart that lists the top-10 main_speakers based on the number of comments.\n",
    "# Remember to make the bar chart into a vertical bar chart\n",
    "#########################begin code for Task 3-d\n",
    "df1=df_ted[['main_speaker','comments']].sort_values(by=['comments'], ascending=False)[:10]\n",
    "df1.plot(kind='bar')\n",
    "#########################end code for Task 3-d"
   ]
  },
  {
   "cell_type": "code",
   "execution_count": 240,
   "metadata": {
    "collapsed": false
   },
   "outputs": [
    {
     "data": {
      "text/plain": [
       "<matplotlib.axes._subplots.AxesSubplot at 0x197232a80b8>"
      ]
     },
     "execution_count": 240,
     "metadata": {
     },
     "output_type": "execute_result"
    },
    {
     "data": {
      "image/png": "[encoded data removed]"
     },
     "output_type": "display_data"
    }
   ],
   "source": [
    "#Task 3-e: Now repeat Task 3-d based on views (again top-10)\n",
    "#########################begin code for Task 3-e\n",
    "df1=df_ted[['main_speaker','views']].sort_values(by=['views'], ascending=False)[:10]\n",
    "df1.plot(kind='bar')\n",
    "#########################end code for Task 3-e"
   ]
  },
  {
   "cell_type": "code",
   "execution_count": 561,
   "metadata": {
    "collapsed": false
   },
   "outputs": [
    {
     "data": {
      "text/plain": [
       "<matplotlib.axes._subplots.AxesSubplot at 0x19726122f98>"
      ]
     },
     "execution_count": 561,
     "metadata": {
     },
     "output_type": "execute_result"
    },
    {
     "data": {
      "image/png": "[encoded data removed]"
     },
     "output_type": "display_data"
    }
   ],
   "source": [
    "#Task 3-f: Draw a scatter plot for average number of views per duration of talk in minutes.\n",
    "# Notice that duration of talk is given in seconds. You need to convert it to minutes.\n",
    "#########################begin code for Task 3-f\n",
    "df_ted['minDur']=df_ted['duration'].div(60)\n",
    "df1=df_ted.groupby(['minDur'])['views'].mean().reset_index(name='meanview')\n",
    "df1.plot.scatter(x='minDur', y='meanview')\n",
    "#########################end code for Task 3-f"
   ]
  },
  {
   "cell_type": "code",
   "execution_count": 546,
   "metadata": {
    "collapsed": false
   },
   "outputs": [
    {
     "data": {
      "text/plain": [
       "<matplotlib.axes._subplots.AxesSubplot at 0x19724f5ab00>"
      ]
     },
     "execution_count": 546,
     "metadata": {
     },
     "output_type": "execute_result"
    },
    {
     "data": {
      "image/png": "[encoded data removed]"
     },
     "output_type": "display_data"
    }
   ],
   "source": [
    "#Task 3-g: Draw a line chart showing how the number of languages in average varied every year\n",
    "# X-axis : year, Y-axis : the number of languages in which the talk is available\n",
    "#########################begin code for Task 3-g\n",
    "df1=df_ted.groupby(['year'])['languages'].mean()\n",
    "df1.plot(kind='line')\n",
    "#########################end code for Task 3-g"
   ]
  },
  {
   "cell_type": "code",
   "execution_count": 397,
   "metadata": {
    "collapsed": false,
    "scrolled": true
   },
   "outputs": [
    {
     "data": {
      "text/plain": [
       "<matplotlib.axes._subplots.AxesSubplot at 0x197235f14a8>"
      ]
     },
     "execution_count": 397,
     "metadata": {
     },
     "output_type": "execute_result"
    },
    {
     "data": {
      "image/png": "[encoded data removed]"
     },
     "output_type": "display_data"
    }
   ],
   "source": [
    "#Task 3-h: Draw a 'horizontal' bar chart for the top-10 most common occupation for main_speaker. \n",
    "#Notice that you need to use \"speaker_occupation\" field of your daset and the value of this field is given an array.\n",
    "#########################begin code for Task 3-h\n",
    "df1=df_ted['speaker_occupation'].value_counts() [:10]\n",
    "df1.plot(kind='barh')\n",
    "#########################end code for Task 3-h"
   ]
  },
  {
   "cell_type": "code",
   "execution_count": 269,
   "metadata": {
    "collapsed": false
   },
   "outputs": [
    {
     "data": {
      "text/plain": [
       "<matplotlib.axes._subplots.AxesSubplot at 0x1971e4543c8>"
      ]
     },
     "execution_count": 269,
     "metadata": {
     },
     "output_type": "execute_result"
    },
    {
     "data": {
      "image/png": "[encoded data removed]"
     },
     "output_type": "display_data"
    }
   ],
   "source": [
    "#Task 3-i: Draw a 'horizontal' bar chart for the top-10 most common themes. \n",
    "#Notice that you need to use the 'tag' column of your dataset and value of this column is given an array.\n",
    "#########################begin code for Task 3-i\n",
    "df1=df_ted['tags'].value_counts() [:10]\n",
    "df1.plot(kind='barh')\n",
    "#########################end code for Task 3-i"
   ]
  },
  {
   "cell_type": "markdown",
   "metadata": {
    "collapsed": false
   },
   "source": [
    "# Task 4: \n",
    "Find out an interesting information from your ted_talks dataset. Create a visualization for it. \n",
    "This task is worth 20 points. Your result will be judged based on the uniqueness and quality of your work (having a meaningful result and an aesthetic visulization). "
   ]
  },
  {
   "cell_type": "code",
   "execution_count": 608,
   "metadata": {
    "collapsed": false
   },
   "outputs": [
    {
     "data": {
      "text/plain": [
       "year\n",
       "2006    206548331\n",
       "2007    176455861\n",
       "2008    260270993\n",
       "2009    342059615\n",
       "2010    402694421\n",
       "2011    400499694\n",
       "2012    489662029\n",
       "2013    545291823\n",
       "2014    445515954\n",
       "2015    420587281\n",
       "2016    414139074\n",
       "2017    226933502\n",
       "Name: views, dtype: int64"
      ]
     },
     "execution_count": 608,
     "metadata": {
     },
     "output_type": "execute_result"
    }
   ],
   "source": [
    "#########################begin code for Task 4\n",
    "#firstly let's sort total views of all TED events per year\n",
    "df1=df_ted.groupby(['year'])['views'].sum()\n",
    "df1"
   ]
  },
  {
   "cell_type": "code",
   "execution_count": 626,
   "metadata": {
    "collapsed": false
   },
   "outputs": [
    {
     "data": {
      "text/html": [
       "<div>\n",
       "<style scoped>\n",
       "    .dataframe tbody tr th:only-of-type {\n",
       "        vertical-align: middle;\n",
       "    }\n",
       "\n",
       "    .dataframe tbody tr th {\n",
       "        vertical-align: top;\n",
       "    }\n",
       "\n",
       "    .dataframe thead th {\n",
       "        text-align: right;\n",
       "    }\n",
       "</style>\n",
       "<table border=\"1\" class=\"dataframe\">\n",
       "  <thead>\n",
       "    <tr style=\"text-align: right;\">\n",
       "      <th></th>\n",
       "      <th>year</th>\n",
       "      <th>perIncViews</th>\n",
       "    </tr>\n",
       "  </thead>\n",
       "  <tbody>\n",
       "    <tr>\n",
       "      <th>0</th>\n",
       "      <td>2006</td>\n",
       "      <td>NaN</td>\n",
       "    </tr>\n",
       "    <tr>\n",
       "      <th>1</th>\n",
       "      <td>2007</td>\n",
       "      <td>-0.145692</td>\n",
       "    </tr>\n",
       "    <tr>\n",
       "      <th>2</th>\n",
       "      <td>2008</td>\n",
       "      <td>0.474992</td>\n",
       "    </tr>\n",
       "    <tr>\n",
       "      <th>3</th>\n",
       "      <td>2009</td>\n",
       "      <td>0.314244</td>\n",
       "    </tr>\n",
       "    <tr>\n",
       "      <th>4</th>\n",
       "      <td>2010</td>\n",
       "      <td>0.177264</td>\n",
       "    </tr>\n",
       "    <tr>\n",
       "      <th>5</th>\n",
       "      <td>2011</td>\n",
       "      <td>-0.005450</td>\n",
       "    </tr>\n",
       "    <tr>\n",
       "      <th>6</th>\n",
       "      <td>2012</td>\n",
       "      <td>0.222628</td>\n",
       "    </tr>\n",
       "    <tr>\n",
       "      <th>7</th>\n",
       "      <td>2013</td>\n",
       "      <td>0.113609</td>\n",
       "    </tr>\n",
       "    <tr>\n",
       "      <th>8</th>\n",
       "      <td>2014</td>\n",
       "      <td>-0.182977</td>\n",
       "    </tr>\n",
       "    <tr>\n",
       "      <th>9</th>\n",
       "      <td>2015</td>\n",
       "      <td>-0.055955</td>\n",
       "    </tr>\n",
       "    <tr>\n",
       "      <th>10</th>\n",
       "      <td>2016</td>\n",
       "      <td>-0.015331</td>\n",
       "    </tr>\n",
       "    <tr>\n",
       "      <th>11</th>\n",
       "      <td>2017</td>\n",
       "      <td>-0.452036</td>\n",
       "    </tr>\n",
       "  </tbody>\n",
       "</table>\n",
       "</div>"
      ]
     },
     "execution_count": 626,
     "metadata": {
     },
     "output_type": "execute_result"
    }
   ],
   "source": [
    "#here we will be analyzing the percentage chage in total talks duration on an yearly basis\n",
    "#df1=df_ted.groupby(['year'])['duration'].sum()\n",
    "#df2=df1.pct_change().reset_index(name='perIncDuration')\n",
    "df3=df_ted.groupby(['year'])['views'].sum()\n",
    "df4=df3.pct_change().reset_index(name='perIncViews')\n",
    "#df5=pd.merge(df2, df4,  how='left')\n",
    "df4\n",
    "#the below given data shows how viewers started decreasing after 2013\n",
    "#let's find out why"
   ]
  },
  {
   "cell_type": "code",
   "execution_count": 630,
   "metadata": {
    "collapsed": false
   },
   "outputs": [
    {
     "data": {
      "text/html": [
       "<div>\n",
       "<style scoped>\n",
       "    .dataframe tbody tr th:only-of-type {\n",
       "        vertical-align: middle;\n",
       "    }\n",
       "\n",
       "    .dataframe tbody tr th {\n",
       "        vertical-align: top;\n",
       "    }\n",
       "\n",
       "    .dataframe thead th {\n",
       "        text-align: right;\n",
       "    }\n",
       "</style>\n",
       "<table border=\"1\" class=\"dataframe\">\n",
       "  <thead>\n",
       "    <tr style=\"text-align: right;\">\n",
       "      <th></th>\n",
       "      <th>counts</th>\n",
       "    </tr>\n",
       "    <tr>\n",
       "      <th>year</th>\n",
       "      <th></th>\n",
       "    </tr>\n",
       "  </thead>\n",
       "  <tbody>\n",
       "    <tr>\n",
       "      <th>2006</th>\n",
       "      <td>NaN</td>\n",
       "    </tr>\n",
       "    <tr>\n",
       "      <th>2007</th>\n",
       "      <td>1.440000</td>\n",
       "    </tr>\n",
       "    <tr>\n",
       "      <th>2008</th>\n",
       "      <td>0.540984</td>\n",
       "    </tr>\n",
       "    <tr>\n",
       "      <th>2009</th>\n",
       "      <td>0.180851</td>\n",
       "    </tr>\n",
       "    <tr>\n",
       "      <th>2010</th>\n",
       "      <td>0.157658</td>\n",
       "    </tr>\n",
       "    <tr>\n",
       "      <th>2011</th>\n",
       "      <td>0.015564</td>\n",
       "    </tr>\n",
       "    <tr>\n",
       "      <th>2012</th>\n",
       "      <td>0.172414</td>\n",
       "    </tr>\n",
       "    <tr>\n",
       "      <th>2013</th>\n",
       "      <td>-0.202614</td>\n",
       "    </tr>\n",
       "    <tr>\n",
       "      <th>2014</th>\n",
       "      <td>-0.016393</td>\n",
       "    </tr>\n",
       "    <tr>\n",
       "      <th>2015</th>\n",
       "      <td>-0.083333</td>\n",
       "    </tr>\n",
       "    <tr>\n",
       "      <th>2016</th>\n",
       "      <td>0.104545</td>\n",
       "    </tr>\n",
       "    <tr>\n",
       "      <th>2017</th>\n",
       "      <td>-0.189300</td>\n",
       "    </tr>\n",
       "  </tbody>\n",
       "</table>\n",
       "</div>"
      ]
     },
     "execution_count": 630,
     "metadata": {
     },
     "output_type": "execute_result"
    }
   ],
   "source": [
    "df5=df_ted.groupby(['year', 'title']).size().reset_index(name='counts')\n",
    "df6=df5.groupby(['year']).sum()\n",
    "df7=df6.pct_change()\n",
    "df7\n",
    "#the data extracted below shows there was decrease in no. of talks after 2013 ...which could be considerd as a possible reason\n",
    "#for the reduce in no. of viewers.. then even though there was an increase in no. of talks in 2016.. there was still less viewers\n",
    "#let's explore more"
   ]
  },
  {
   "cell_type": "code",
   "execution_count": 646,
   "metadata": {
    "collapsed": false
   },
   "outputs": [
    {
     "data": {
      "text/plain": [
       "main_speaker          main_speaker        \n",
       "Hans Rosling          Hans Rosling            9\n",
       "Juan Enriquez         Juan Enriquez           7\n",
       "Rives                 Rives                   6\n",
       "Marco Tempest         Marco Tempest           6\n",
       "Jacqueline Novogratz  Jacqueline Novogratz    5\n",
       "Julian Treasure       Julian Treasure         5\n",
       "Clay Shirky           Clay Shirky             5\n",
       "Dan Ariely            Dan Ariely              5\n",
       "Nicholas Negroponte   Nicholas Negroponte     5\n",
       "Bill Gates            Bill Gates              5\n",
       "Name: main_speaker, dtype: int64"
      ]
     },
     "execution_count": 646,
     "metadata": {
     },
     "output_type": "execute_result"
    }
   ],
   "source": [
    "#now we'll see which speaker was frquently invited for the talks\n",
    "df8=df_ted.groupby(['main_speaker'])['main_speaker'].value_counts()\n",
    "df9=df8.sort_values(ascending=False)[:10]\n",
    "df9\n",
    "#this shows that these were the top 10 main_speakers throughout the TED talk 2006-2017\n",
    "#########################end code for Task 4"
   ]
  },
  {
   "cell_type": "code",
   "execution_count": 660,
   "metadata": {
    "collapsed": false
   },
   "outputs": [
    {
     "data": {
      "text/html": [
       "<div>\n",
       "<style scoped>\n",
       "    .dataframe tbody tr th:only-of-type {\n",
       "        vertical-align: middle;\n",
       "    }\n",
       "\n",
       "    .dataframe tbody tr th {\n",
       "        vertical-align: top;\n",
       "    }\n",
       "\n",
       "    .dataframe thead th {\n",
       "        text-align: right;\n",
       "    }\n",
       "</style>\n",
       "<table border=\"1\" class=\"dataframe\">\n",
       "  <thead>\n",
       "    <tr style=\"text-align: right;\">\n",
       "      <th></th>\n",
       "      <th>views</th>\n",
       "    </tr>\n",
       "    <tr>\n",
       "      <th>main_speaker</th>\n",
       "      <th></th>\n",
       "    </tr>\n",
       "  </thead>\n",
       "  <tbody>\n",
       "    <tr>\n",
       "      <th>Ken Robinson</th>\n",
       "      <td>63006281</td>\n",
       "    </tr>\n",
       "    <tr>\n",
       "      <th>Amy Cuddy</th>\n",
       "      <td>43155405</td>\n",
       "    </tr>\n",
       "    <tr>\n",
       "      <th>Simon Sinek</th>\n",
       "      <td>41113370</td>\n",
       "    </tr>\n",
       "    <tr>\n",
       "      <th>BrenÃÂ© Brown</th>\n",
       "      <td>39157044</td>\n",
       "    </tr>\n",
       "    <tr>\n",
       "      <th>Julian Treasure</th>\n",
       "      <td>30927659</td>\n",
       "    </tr>\n",
       "    <tr>\n",
       "      <th>Hans Rosling</th>\n",
       "      <td>27567127</td>\n",
       "    </tr>\n",
       "    <tr>\n",
       "      <th>James Veitch</th>\n",
       "      <td>26187805</td>\n",
       "    </tr>\n",
       "    <tr>\n",
       "      <th>Mary Roach</th>\n",
       "      <td>22270883</td>\n",
       "    </tr>\n",
       "    <tr>\n",
       "      <th>Dan Gilbert</th>\n",
       "      <td>21796454</td>\n",
       "    </tr>\n",
       "    <tr>\n",
       "      <th>Jill Bolte Taylor</th>\n",
       "      <td>21190883</td>\n",
       "    </tr>\n",
       "  </tbody>\n",
       "</table>\n",
       "</div>"
      ]
     },
     "execution_count": 660,
     "metadata": {
     },
     "output_type": "execute_result"
    }
   ],
   "source": [
    "df10=df_ted.groupby(['main_speaker'])[['main_speaker','views']].sum()\n",
    "df11=df10.sort_values(by=['views'], ascending=False)[:10]\n",
    "df11\n",
    "#this shows the most viewd speakers in the duration of TED talks from 2006-2017"
   ]
  },
  {
   "cell_type": "markdown",
   "metadata": {
    "collapsed": false
   },
   "source": [
   ]
  }
 ],
 "metadata": {
  "kernelspec": {
   "display_name": "Python 3 (Ubuntu Linux)",
   "language": "python",
   "name": "python3"
  },
  "language_info": {
   "codemirror_mode": {
    "name": "ipython",
    "version": 3
   },
   "file_extension": ".py",
   "mimetype": "text/x-python",
   "name": "python",
   "nbconvert_exporter": "python",
   "pygments_lexer": "ipython3",
   "version": "3.6.7"
  }
 },
 "nbformat": 4,
 "nbformat_minor": 0
}